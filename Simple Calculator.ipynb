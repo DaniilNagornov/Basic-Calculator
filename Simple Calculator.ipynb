{
 "cells": [
  {
   "cell_type": "code",
   "execution_count": 5,
   "metadata": {},
   "outputs": [],
   "source": [
    "import math"
   ]
  },
  {
   "cell_type": "code",
   "execution_count": null,
   "metadata": {},
   "outputs": [
    {
     "name": "stdout",
     "output_type": "stream",
     "text": [
      "Select operation.\n",
      "1.Add\n",
      "2.Subtract\n",
      "3.Multiply\n",
      "4.Divide\n",
      "5.exp\n",
      "6.sqrt\n"
     ]
    }
   ],
   "source": [
    "def add(x,y):\n",
    "    return x+y\n",
    "def subs(x,y):\n",
    "    return x-y\n",
    "def mult(x,y):\n",
    "    return x*y\n",
    "def div(x,y):\n",
    "    return x/y\n",
    "def exp(x,y):\n",
    "    return x**y\n",
    "def sqrt(x,y):\n",
    "    mart.sqrt(x)\n",
    "\n",
    "print(\"Select operation.\")\n",
    "print(\"1.Add\")\n",
    "print(\"2.Subtract\")\n",
    "print(\"3.Multiply\")\n",
    "print(\"4.Divide\")\n",
    "print(\"5.exp\")\n",
    "print(\"6.sqrt\")\n",
    "\n",
    "while True:\n",
    "    choice = input(\"Enter youtr choice (1/2/3/4/5/6):\")\n",
    "\n",
    "\n",
    "    if choice in ('1','2','3','4','5','6'):\n",
    "        num1 = float(input(\"Choose the first number\"))\n",
    "        num2 = float(input(\"Choose the second nubmber\"))\n",
    "    if choice == '1':\n",
    "        print(num1,\"+\",num2,\"=\", add(num1, num2))\n",
    "    elif choice == '2':\n",
    "        print(num1,\"-\",num2,\"=\", subs(num1, num2))\n",
    "    elif choice == '3':\n",
    "        print(num1,\"*\",num2,\"=\", mult(num1, num2))\n",
    "    elif choice == '4':\n",
    "        print(num1,\"/\",num2,\"=\", div(num1, num2))\n",
    "        break\n",
    "    \n",
    "    elif choice == '5':\n",
    "        print(num1,\"^\",num2,\"=\", exp(num1, num2))\n",
    "    elif choice == '6':\n",
    "        print(\"√\",num1,\"=\", math.sqrt(num1))\n",
    "        \n",
    "       \n",
    "\n",
    "    else:\n",
    "            print(\"Are you stupid, please,go fuck yourself\")"
   ]
  },
  {
   "cell_type": "code",
   "execution_count": null,
   "metadata": {},
   "outputs": [],
   "source": []
  }
 ],
 "metadata": {
  "kernelspec": {
   "display_name": "Python 3",
   "language": "python",
   "name": "python3"
  },
  "language_info": {
   "codemirror_mode": {
    "name": "ipython",
    "version": 3
   },
   "file_extension": ".py",
   "mimetype": "text/x-python",
   "name": "python",
   "nbconvert_exporter": "python",
   "pygments_lexer": "ipython3",
   "version": "3.8.5"
  }
 },
 "nbformat": 4,
 "nbformat_minor": 4
}
